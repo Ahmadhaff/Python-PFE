{
 "cells": [
  {
   "cell_type": "code",
   "execution_count": null,
   "id": "6f4d96c6-879d-4071-8a64-0b45564103eb",
   "metadata": {},
   "outputs": [],
   "source": []
  },
  {
   "cell_type": "code",
   "execution_count": 21,
   "id": "422a6a8a-0f77-43a8-b638-ac7276fb1df4",
   "metadata": {},
   "outputs": [
    {
     "name": "stdout",
     "output_type": "stream",
     "text": [
      "Found 3245 images belonging to 6 classes.\n",
      "Found 3245 images belonging to 6 classes.\n"
     ]
    }
   ],
   "source": [
    "# Importation des bibliothèques\n",
    "from keras.models import Sequential\n",
    "from keras.layers import Convolution2D\n",
    "from keras.layers import MaxPooling2D\n",
    "from keras.layers import Flatten\n",
    "from keras.layers import Dense\n",
    "\n",
    "# construction de model CNN\n",
    "\n",
    "# Choix de modele sequenciel\n",
    "classifier = Sequential()\n",
    "\n",
    "# Première couche de convolutionnel  accompagnée d'une matrice de 2 dimension (Max pooling) et fonction d'activation\n",
    "classifier.add(Convolution2D(64, (3, 3), input_shape=(96,96,1), activation='relu'))\n",
    "classifier.add(MaxPooling2D(pool_size=(2, 2)))\n",
    "\n",
    "# 2eme P couche de convolutionnel  accompagnée d'une matrice de 3 dimension (Max pooling) et fonction d'activation\n",
    "classifier.add(Convolution2D(64, (3, 3), activation='relu'))\n",
    "# input_shape va être obtenue de la couche de convolution précédente\n",
    "classifier.add(MaxPooling2D(pool_size=(2, 2)))\n",
    "\n",
    "# La couche Flattening  converte les données obtenués(poolled images) en une matrice  d'un seule dimension\n",
    "classifier.add(Flatten())\n",
    "\n",
    "# les couches entièrement connectée\n",
    "classifier.add(Dense(units=128, activation='relu'))#128  neurones\n",
    "classifier.add(Dense(units=6, activation='softmax'))   # unit= 5 classes en couche de sortie softmax -ici pour l classification\n",
    "# compilation de notre model CNN\n",
    "classifier.compile(optimizer='adam', loss='categorical_crossentropy', metrics=['accuracy']) \n",
    "\n",
    "\n",
    "\n",
    "\n",
    "# faire la normalisation pour les données de notre base de données\n",
    "from keras.preprocessing.image import ImageDataGenerator\n",
    "\n",
    "train_datagen = ImageDataGenerator(\n",
    "       rescale=1./255,\n",
    "       shear_range=0.2,\n",
    "       zoom_range=0.2,\n",
    "       horizontal_flip=True)\n",
    "\n",
    "\n",
    "test_datagen = ImageDataGenerator(\n",
    "       rescale=1./255,\n",
    "       shear_range=0.2,\n",
    "       zoom_range=0.2,\n",
    "       horizontal_flip=True)\n",
    "\n",
    "\n",
    "#Les variables d'apprentissage et test et choisir la categorie de notre modele\n",
    "training_set = train_datagen.flow_from_directory('dataset/Train',\n",
    "                                                 target_size=(96,96),\n",
    "                                                 batch_size=27,\n",
    "                                                 color_mode='grayscale',\n",
    "                                                 class_mode='categorical')\n",
    "\n",
    "test_set = test_datagen.flow_from_directory('dataset/Test',\n",
    "                                            target_size=(96,96),\n",
    "                                            batch_size=27,\n",
    "                                            color_mode='grayscale',\n",
    "                                            class_mode='categorical')\n",
    "\n",
    "\n"
   ]
  },
  {
   "cell_type": "code",
   "execution_count": 22,
   "id": "04765fd7-fa2e-4a10-b671-9a0af8ac02b4",
   "metadata": {},
   "outputs": [],
   "source": [
    "#Debut d apprentissage methode 01\n",
    "#classifier.fit_generator(\n",
    "      #  training_set,\n",
    "       # steps_per_epoch=13, # nombre d'iterations dans chaque epoch\n",
    "        #epochs=5,#nombre des iterations totale\n",
    "       # validation_data=test_set,\n",
    "       # validation_steps=31)# nombre d'teration prise de dossier 'train' pour l'apprentissage "
   ]
  },
  {
   "cell_type": "code",
   "execution_count": 23,
   "id": "4ad2cba9-6650-4dfd-b066-0ecd4e5a0447",
   "metadata": {},
   "outputs": [
    {
     "name": "stdout",
     "output_type": "stream",
     "text": [
      "Epoch 1/50\n",
      "64/64 [==============================] - 51s 794ms/step - loss: 0.3223 - accuracy: 0.9033 - val_loss: 0.0734 - val_accuracy: 0.9757\n",
      "Epoch 2/50\n",
      "64/64 [==============================] - 48s 755ms/step - loss: 0.0301 - accuracy: 0.9918 - val_loss: 0.0270 - val_accuracy: 0.9942\n",
      "Epoch 3/50\n",
      "64/64 [==============================] - 46s 717ms/step - loss: 0.0330 - accuracy: 0.9918 - val_loss: 0.1256 - val_accuracy: 0.9554\n",
      "Epoch 4/50\n",
      "64/64 [==============================] - 44s 692ms/step - loss: 0.0454 - accuracy: 0.9873 - val_loss: 0.0177 - val_accuracy: 0.9959\n",
      "Epoch 5/50\n",
      "64/64 [==============================] - 43s 680ms/step - loss: 0.0141 - accuracy: 0.9965 - val_loss: 0.0089 - val_accuracy: 0.9971\n",
      "Epoch 6/50\n",
      "64/64 [==============================] - 43s 681ms/step - loss: 0.0119 - accuracy: 0.9971 - val_loss: 0.0065 - val_accuracy: 0.9971\n",
      "Epoch 7/50\n",
      "64/64 [==============================] - 43s 678ms/step - loss: 0.0151 - accuracy: 0.9936 - val_loss: 0.0089 - val_accuracy: 0.9971\n",
      "Epoch 8/50\n",
      "64/64 [==============================] - 44s 684ms/step - loss: 0.0030 - accuracy: 0.9994 - val_loss: 0.0051 - val_accuracy: 0.9983\n",
      "Epoch 9/50\n",
      "64/64 [==============================] - 44s 686ms/step - loss: 0.0107 - accuracy: 0.9977 - val_loss: 0.0168 - val_accuracy: 0.9971\n",
      "Epoch 10/50\n",
      "64/64 [==============================] - 43s 678ms/step - loss: 0.0153 - accuracy: 0.9959 - val_loss: 0.0033 - val_accuracy: 0.9994\n",
      "Epoch 11/50\n",
      "64/64 [==============================] - 43s 673ms/step - loss: 0.0033 - accuracy: 0.9988 - val_loss: 0.0056 - val_accuracy: 0.9977\n",
      "Epoch 12/50\n",
      "64/64 [==============================] - 44s 682ms/step - loss: 0.0025 - accuracy: 0.9988 - val_loss: 0.0075 - val_accuracy: 0.9988\n",
      "Epoch 13/50\n",
      "64/64 [==============================] - 44s 682ms/step - loss: 0.0095 - accuracy: 0.9971 - val_loss: 0.0087 - val_accuracy: 0.9983\n",
      "Epoch 14/50\n",
      "64/64 [==============================] - 43s 667ms/step - loss: 8.8873e-04 - accuracy: 1.0000 - val_loss: 0.0147 - val_accuracy: 0.9983\n",
      "Epoch 15/50\n",
      "64/64 [==============================] - 42s 665ms/step - loss: 0.0083 - accuracy: 0.9994 - val_loss: 0.0017 - val_accuracy: 1.0000\n",
      "Epoch 16/50\n",
      "64/64 [==============================] - 42s 666ms/step - loss: 0.0022 - accuracy: 0.9994 - val_loss: 6.1469e-04 - val_accuracy: 1.0000\n",
      "Epoch 17/50\n",
      "64/64 [==============================] - 42s 662ms/step - loss: 1.8692e-04 - accuracy: 1.0000 - val_loss: 5.7297e-04 - val_accuracy: 1.0000\n",
      "Epoch 18/50\n",
      "64/64 [==============================] - 43s 668ms/step - loss: 1.1173e-04 - accuracy: 1.0000 - val_loss: 3.6781e-04 - val_accuracy: 1.0000\n",
      "Epoch 19/50\n",
      "64/64 [==============================] - 42s 661ms/step - loss: 1.1304e-04 - accuracy: 1.0000 - val_loss: 6.4539e-04 - val_accuracy: 0.9994\n",
      "Epoch 20/50\n",
      "64/64 [==============================] - 42s 665ms/step - loss: 1.0299e-04 - accuracy: 1.0000 - val_loss: 8.1901e-05 - val_accuracy: 1.0000\n",
      "Epoch 21/50\n",
      "64/64 [==============================] - 42s 666ms/step - loss: 2.5038e-04 - accuracy: 1.0000 - val_loss: 0.0012 - val_accuracy: 0.9994\n",
      "Epoch 22/50\n",
      "64/64 [==============================] - 43s 671ms/step - loss: 0.0014 - accuracy: 0.9994 - val_loss: 0.0036 - val_accuracy: 0.9988\n",
      "Epoch 23/50\n",
      "64/64 [==============================] - 43s 667ms/step - loss: 0.0028 - accuracy: 0.9994 - val_loss: 0.0011 - val_accuracy: 0.9994\n",
      "Epoch 24/50\n",
      "64/64 [==============================] - 43s 668ms/step - loss: 0.0051 - accuracy: 0.9988 - val_loss: 0.0049 - val_accuracy: 0.9988\n",
      "Epoch 25/50\n",
      "64/64 [==============================] - 42s 663ms/step - loss: 0.0050 - accuracy: 0.9988 - val_loss: 5.0184e-04 - val_accuracy: 1.0000\n",
      "Epoch 26/50\n",
      "64/64 [==============================] - 42s 659ms/step - loss: 5.2242e-04 - accuracy: 1.0000 - val_loss: 1.6371e-04 - val_accuracy: 1.0000\n",
      "Epoch 27/50\n",
      "64/64 [==============================] - 42s 663ms/step - loss: 0.0026 - accuracy: 0.9994 - val_loss: 0.0080 - val_accuracy: 0.9971\n",
      "Epoch 28/50\n",
      "64/64 [==============================] - 43s 669ms/step - loss: 0.0030 - accuracy: 0.9983 - val_loss: 0.0042 - val_accuracy: 0.9988\n",
      "Epoch 29/50\n",
      "64/64 [==============================] - 42s 659ms/step - loss: 4.9736e-04 - accuracy: 1.0000 - val_loss: 2.9430e-04 - val_accuracy: 1.0000\n",
      "Epoch 30/50\n",
      "64/64 [==============================] - 43s 667ms/step - loss: 1.0000e-04 - accuracy: 1.0000 - val_loss: 0.0013 - val_accuracy: 0.9994\n",
      "Epoch 31/50\n",
      "64/64 [==============================] - 43s 666ms/step - loss: 2.6113e-04 - accuracy: 1.0000 - val_loss: 8.8644e-04 - val_accuracy: 0.9994\n",
      "Epoch 32/50\n",
      "64/64 [==============================] - 42s 663ms/step - loss: 4.6479e-04 - accuracy: 1.0000 - val_loss: 7.8133e-04 - val_accuracy: 1.0000\n",
      "Epoch 33/50\n",
      "64/64 [==============================] - 43s 667ms/step - loss: 2.7411e-04 - accuracy: 1.0000 - val_loss: 5.7805e-05 - val_accuracy: 1.0000\n",
      "Epoch 34/50\n",
      "64/64 [==============================] - 43s 670ms/step - loss: 4.8018e-05 - accuracy: 1.0000 - val_loss: 1.1884e-04 - val_accuracy: 1.0000\n",
      "Epoch 35/50\n",
      "64/64 [==============================] - 42s 661ms/step - loss: 2.6102e-05 - accuracy: 1.0000 - val_loss: 1.3700e-05 - val_accuracy: 1.0000\n",
      "Epoch 36/50\n",
      "64/64 [==============================] - 43s 670ms/step - loss: 2.4748e-05 - accuracy: 1.0000 - val_loss: 1.8278e-05 - val_accuracy: 1.0000\n",
      "Epoch 37/50\n",
      "64/64 [==============================] - 43s 674ms/step - loss: 5.9086e-04 - accuracy: 1.0000 - val_loss: 0.0010 - val_accuracy: 1.0000\n",
      "Epoch 38/50\n",
      "64/64 [==============================] - 42s 662ms/step - loss: 6.5250e-05 - accuracy: 1.0000 - val_loss: 3.9855e-05 - val_accuracy: 1.0000\n",
      "Epoch 39/50\n",
      "64/64 [==============================] - 43s 669ms/step - loss: 3.6694e-05 - accuracy: 1.0000 - val_loss: 7.8251e-06 - val_accuracy: 1.0000\n",
      "Epoch 40/50\n",
      "64/64 [==============================] - 42s 661ms/step - loss: 0.0018 - accuracy: 0.9988 - val_loss: 0.0056 - val_accuracy: 0.9983\n",
      "Epoch 41/50\n",
      "64/64 [==============================] - 43s 668ms/step - loss: 0.0304 - accuracy: 0.9902 - val_loss: 0.0075 - val_accuracy: 0.9977\n",
      "Epoch 42/50\n",
      "64/64 [==============================] - 42s 660ms/step - loss: 0.0044 - accuracy: 0.9982 - val_loss: 4.6409e-04 - val_accuracy: 1.0000\n",
      "Epoch 43/50\n",
      "64/64 [==============================] - 42s 666ms/step - loss: 0.0052 - accuracy: 0.9977 - val_loss: 0.0034 - val_accuracy: 0.9994\n",
      "Epoch 44/50\n",
      "64/64 [==============================] - 42s 665ms/step - loss: 0.0153 - accuracy: 0.9959 - val_loss: 0.0014 - val_accuracy: 1.0000\n",
      "Epoch 45/50\n",
      "64/64 [==============================] - 42s 664ms/step - loss: 0.0047 - accuracy: 0.9982 - val_loss: 0.0135 - val_accuracy: 0.9942\n",
      "Epoch 46/50\n",
      "64/64 [==============================] - 42s 657ms/step - loss: 0.0026 - accuracy: 0.9994 - val_loss: 0.0030 - val_accuracy: 0.9994\n",
      "Epoch 47/50\n",
      "64/64 [==============================] - 43s 668ms/step - loss: 4.1968e-04 - accuracy: 1.0000 - val_loss: 2.5374e-04 - val_accuracy: 1.0000\n",
      "Epoch 48/50\n",
      "64/64 [==============================] - 43s 667ms/step - loss: 2.6579e-04 - accuracy: 1.0000 - val_loss: 1.6390e-04 - val_accuracy: 1.0000\n",
      "Epoch 49/50\n",
      "64/64 [==============================] - 42s 665ms/step - loss: 0.0019 - accuracy: 0.9988 - val_loss: 5.7858e-04 - val_accuracy: 1.0000\n",
      "Epoch 50/50\n",
      "64/64 [==============================] - 43s 675ms/step - loss: 0.0012 - accuracy: 0.9994 - val_loss: 0.0026 - val_accuracy: 0.9994\n"
     ]
    }
   ],
   "source": [
    "#Debut2d apprentissage methode 01\n",
    "batch_size=50\n",
    "hist=classifier.fit(training_set,steps_per_epoch=training_set.samples//batch_size,\n",
    "                    validation_data=test_set,validation_steps=test_set.samples//batch_size,\n",
    "                    epochs=50\n",
    "                   )"
   ]
  },
  {
   "cell_type": "code",
   "execution_count": null,
   "id": "63d171f6-47df-405f-bb5e-0978caefd177",
   "metadata": {},
   "outputs": [],
   "source": []
  },
  {
   "cell_type": "code",
   "execution_count": null,
   "id": "d5f1684d-3a1f-4d4f-92fd-f1ffc1056a02",
   "metadata": {},
   "outputs": [],
   "source": []
  },
  {
   "cell_type": "code",
   "execution_count": 24,
   "id": "9f5d32fa-d6d2-4721-a578-7a5f8ae72849",
   "metadata": {},
   "outputs": [
    {
     "data": {
      "image/png": "[encoded data removed]",
      "text/plain": [
       "<Figure size 432x288 with 1 Axes>"
      ]
     },
     "metadata": {
      "needs_background": "light"
     },
     "output_type": "display_data"
    }
   ],
   "source": [
    "import matplotlib.pyplot as plt \n",
    "plt.plot(hist.history['accuracy'],label='train')\n",
    "plt.plot(hist.history['val_accuracy'],label='val')\n",
    "plt.title('accuracy_train,accuracy_test,epoch=50')\n",
    "plt.legend()\n",
    "plt.show()"
   ]
  },
  {
   "cell_type": "code",
   "execution_count": 25,
   "id": "52e69da4-c08b-46bb-98d4-c125d0833a0a",
   "metadata": {},
   "outputs": [
    {
     "data": {
      "image/png": "[encoded data removed]",
      "text/plain": [
       "<Figure size 432x288 with 1 Axes>"
      ]
     },
     "metadata": {
      "needs_background": "light"
     },
     "output_type": "display_data"
    }
   ],
   "source": [
    "import matplotlib.pyplot as plt \n",
    "plt.plot(hist.history['loss'],label='train')\n",
    "plt.plot(hist.history['val_loss'],label='val')\n",
    "plt.title('loss_train,loss_test,epoch=50')\n",
    "plt.legend()\n",
    "plt.show()"
   ]
  },
  {
   "cell_type": "code",
   "execution_count": null,
   "id": "4f949497-9f13-49e4-961e-064452e38c9f",
   "metadata": {},
   "outputs": [],
   "source": []
  },
  {
   "cell_type": "code",
   "execution_count": null,
   "id": "b700141e-a7df-4fc5-a9e9-2deabaf6a4bb",
   "metadata": {},
   "outputs": [],
   "source": []
  },
  {
   "cell_type": "code",
   "execution_count": null,
   "id": "b199e526-7b18-4824-8a5e-268de2873b17",
   "metadata": {},
   "outputs": [],
   "source": []
  },
  {
   "cell_type": "code",
   "execution_count": null,
   "id": "0853c532-ea3f-4882-88bc-b4d5540a2169",
   "metadata": {},
   "outputs": [],
   "source": []
  },
  {
   "cell_type": "code",
   "execution_count": 26,
   "id": "fd2b3229-61b7-4aea-a210-04f3568380ce",
   "metadata": {},
   "outputs": [],
   "source": [
    "# Saving the model\n",
    "model_json_alphabet = classifier.to_json()\n",
    "with open(\"model-bw_alphabet.json\", \"w\") as json_file_alphabet:\n",
    "    json_file_alphabet.write(model_json_alphabet)\n",
    "classifier.save_weights('model-bw_alphabet.h5')"
   ]
  },
  {
   "cell_type": "code",
   "execution_count": 27,
   "id": "20287962-c0de-4b29-9e8a-272063cbc7b5",
   "metadata": {},
   "outputs": [
    {
     "name": "stdout",
     "output_type": "stream",
     "text": [
      "Model: \"sequential_4\"\n",
      "_________________________________________________________________\n",
      " Layer (type)                Output Shape              Param #   \n",
      "=================================================================\n",
      " conv2d_8 (Conv2D)           (None, 94, 94, 64)        640       \n",
      "                                                                 \n",
      " max_pooling2d_8 (MaxPooling  (None, 47, 47, 64)       0         \n",
      " 2D)                                                             \n",
      "                                                                 \n",
      " conv2d_9 (Conv2D)           (None, 45, 45, 64)        36928     \n",
      "                                                                 \n",
      " max_pooling2d_9 (MaxPooling  (None, 22, 22, 64)       0         \n",
      " 2D)                                                             \n",
      "                                                                 \n",
      " flatten_4 (Flatten)         (None, 30976)             0         \n",
      "                                                                 \n",
      " dense_8 (Dense)             (None, 128)               3965056   \n",
      "                                                                 \n",
      " dense_9 (Dense)             (None, 6)                 774       \n",
      "                                                                 \n",
      "=================================================================\n",
      "Total params: 4,003,398\n",
      "Trainable params: 4,003,398\n",
      "Non-trainable params: 0\n",
      "_________________________________________________________________\n"
     ]
    }
   ],
   "source": [
    "classifier.summary()"
   ]
  },
  {
   "cell_type": "code",
   "execution_count": null,
   "id": "d68dd16f-5676-40d8-ace9-7bb1900137e9",
   "metadata": {},
   "outputs": [],
   "source": []
  },
  {
   "cell_type": "code",
   "execution_count": null,
   "id": "4836ec22-0101-4de5-a63a-a6b396b7a27f",
   "metadata": {},
   "outputs": [],
   "source": []
  },
  {
   "cell_type": "code",
   "execution_count": null,
   "id": "a7bd8601-3493-4ffc-937a-5da079f9c268",
   "metadata": {},
   "outputs": [],
   "source": []
  }
 ],
 "metadata": {
  "kernelspec": {
   "display_name": "Python 3",
   "language": "python",
   "name": "python3"
  },
  "language_info": {
   "codemirror_mode": {
    "name": "ipython",
    "version": 3
   },
   "file_extension": ".py",
   "mimetype": "text/x-python",
   "name": "python",
   "nbconvert_exporter": "python",
   "pygments_lexer": "ipython3",
   "version": "3.8.8"
  }
 },
 "nbformat": 4,
 "nbformat_minor": 5
}
